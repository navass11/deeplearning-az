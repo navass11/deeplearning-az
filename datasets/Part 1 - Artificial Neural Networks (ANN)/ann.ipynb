{
 "cells": [
  {
   "cell_type": "markdown",
   "metadata": {
    "colab_type": "text",
    "id": "3yFpBwmNz70v"
   },
   "source": [
    "# Redes Neuronales Artificales"
   ]
  },
  {
   "cell_type": "markdown",
   "metadata": {
    "colab_type": "text",
    "id": "v8OxSXXSz-OP"
   },
   "source": [
    "# Cómo importar las librerías\n"
   ]
  },
  {
   "cell_type": "code",
   "execution_count": 15,
   "metadata": {
    "colab": {},
    "colab_type": "code",
    "id": "edZX51YLzs59"
   },
   "outputs": [],
   "source": [
    "import numpy as np\n",
    "import matplotlib.pyplot as plt\n",
    "import pandas as pd\n",
    "from sklearn.decomposition import PCA\n",
    "from sklearn.pipeline import make_pipeline\n",
    "from sklearn.preprocessing import StandardScaler\n",
    "from keras.layers import Dropout"
   ]
  },
  {
   "cell_type": "markdown",
   "metadata": {
    "colab_type": "text",
    "id": "8XfXlqtF0B58"
   },
   "source": [
    "# Importar el data set\n"
   ]
  },
  {
   "cell_type": "code",
   "execution_count": 2,
   "metadata": {
    "colab": {},
    "colab_type": "code",
    "id": "-nnozsHsz_-N"
   },
   "outputs": [],
   "source": [
    "dataset = pd.read_csv('./Churn_Modelling.csv')\n",
    "X = dataset.iloc[:, 3:13].values\n",
    "y = dataset.iloc[:, 13].values\n",
    "X_2 = dataset.iloc[:, 3:13].values"
   ]
  },
  {
   "cell_type": "markdown",
   "metadata": {
    "colab_type": "text",
    "id": "xtzD5VD4bOEn"
   },
   "source": [
    "# Parte 1 - Pre procesado de datos"
   ]
  },
  {
   "cell_type": "markdown",
   "metadata": {
    "colab_type": "text",
    "id": "SsVEdPzf4XmV"
   },
   "source": [
    "# Codificar datos categóricos"
   ]
  },
  {
   "cell_type": "code",
   "execution_count": 3,
   "metadata": {
    "colab": {},
    "colab_type": "code",
    "id": "v9CtwK834bjy"
   },
   "outputs": [],
   "source": [
    "from sklearn.preprocessing import LabelEncoder, OneHotEncoder\n",
    "from sklearn.compose import ColumnTransformer\n",
    "\n",
    "labelencoder_X_1 = LabelEncoder()\n",
    "X[:, 1] = labelencoder_X_1.fit_transform(X[:, 1]) # Permite categorizar variables en formato de texto\n",
    "labelencoder_X_2 = LabelEncoder()\n",
    "X[:, 2] = labelencoder_X_2.fit_transform(X[:, 2])\n",
    "onehotencoder = ColumnTransformer(\n",
    "    [('one_hot_encoder', OneHotEncoder(categories='auto'), [1])],   \n",
    "    remainder='passthrough'                        \n",
    ") \n",
    "\n",
    "# Permite crear columnas para cada una de las variables dummy que hemos categorizado\n",
    "# esnecesario eliminar columnas para evitar multicolinealidad\n",
    "X = onehotencoder.fit_transform(X)\n",
    "X = X[:, 1:]"
   ]
  },
  {
   "cell_type": "markdown",
   "metadata": {
    "colab_type": "text",
    "id": "5AH_uCEz68rb"
   },
   "source": [
    "# Dividir el data set en conjunto de entrenamiento y conjunto de testing"
   ]
  },
  {
   "cell_type": "code",
   "execution_count": 4,
   "metadata": {
    "colab": {},
    "colab_type": "code",
    "id": "oeuAy8LI69vi"
   },
   "outputs": [],
   "source": [
    "from sklearn.model_selection import train_test_split\n",
    "X_train, X_test, y_train, y_test = train_test_split(X, y, test_size = 0.2, random_state = 0)"
   ]
  },
  {
   "cell_type": "markdown",
   "metadata": {
    "colab_type": "text",
    "id": "sfzLXHPwbOEt"
   },
   "source": [
    "# Escalado de variables"
   ]
  },
  {
   "cell_type": "code",
   "execution_count": 5,
   "metadata": {
    "colab": {},
    "colab_type": "code",
    "id": "8m2LCgz8bOEt"
   },
   "outputs": [],
   "source": [
    "from sklearn.preprocessing import StandardScaler\n",
    "sc_X = StandardScaler()\n",
    "X_train = sc_X.fit_transform(X_train)\n",
    "X_test = sc_X.transform(X_test)"
   ]
  },
  {
   "cell_type": "markdown",
   "metadata": {
    "colab_type": "text",
    "id": "cgweTaJ67BOB"
   },
   "source": [
    "# Parte 2 - Construir la RNA"
   ]
  },
  {
   "cell_type": "markdown",
   "metadata": {
    "colab_type": "text",
    "id": "tm4Hg995bOEw"
   },
   "source": [
    "# Importar Keras y librerías adicionales\n"
   ]
  },
  {
   "cell_type": "code",
   "execution_count": 6,
   "metadata": {
    "colab": {},
    "colab_type": "code",
    "id": "HLEt5ni_bOEw"
   },
   "outputs": [
    {
     "name": "stderr",
     "output_type": "stream",
     "text": [
      "Using TensorFlow backend.\n",
      "C:\\Anaconda3\\envs\\tensorflow\\lib\\site-packages\\tensorflow\\python\\framework\\dtypes.py:516: FutureWarning: Passing (type, 1) or '1type' as a synonym of type is deprecated; in a future version of numpy, it will be understood as (type, (1,)) / '(1,)type'.\n",
      "  _np_qint8 = np.dtype([(\"qint8\", np.int8, 1)])\n",
      "C:\\Anaconda3\\envs\\tensorflow\\lib\\site-packages\\tensorflow\\python\\framework\\dtypes.py:517: FutureWarning: Passing (type, 1) or '1type' as a synonym of type is deprecated; in a future version of numpy, it will be understood as (type, (1,)) / '(1,)type'.\n",
      "  _np_quint8 = np.dtype([(\"quint8\", np.uint8, 1)])\n",
      "C:\\Anaconda3\\envs\\tensorflow\\lib\\site-packages\\tensorflow\\python\\framework\\dtypes.py:518: FutureWarning: Passing (type, 1) or '1type' as a synonym of type is deprecated; in a future version of numpy, it will be understood as (type, (1,)) / '(1,)type'.\n",
      "  _np_qint16 = np.dtype([(\"qint16\", np.int16, 1)])\n",
      "C:\\Anaconda3\\envs\\tensorflow\\lib\\site-packages\\tensorflow\\python\\framework\\dtypes.py:519: FutureWarning: Passing (type, 1) or '1type' as a synonym of type is deprecated; in a future version of numpy, it will be understood as (type, (1,)) / '(1,)type'.\n",
      "  _np_quint16 = np.dtype([(\"quint16\", np.uint16, 1)])\n",
      "C:\\Anaconda3\\envs\\tensorflow\\lib\\site-packages\\tensorflow\\python\\framework\\dtypes.py:520: FutureWarning: Passing (type, 1) or '1type' as a synonym of type is deprecated; in a future version of numpy, it will be understood as (type, (1,)) / '(1,)type'.\n",
      "  _np_qint32 = np.dtype([(\"qint32\", np.int32, 1)])\n",
      "C:\\Anaconda3\\envs\\tensorflow\\lib\\site-packages\\tensorflow\\python\\framework\\dtypes.py:525: FutureWarning: Passing (type, 1) or '1type' as a synonym of type is deprecated; in a future version of numpy, it will be understood as (type, (1,)) / '(1,)type'.\n",
      "  np_resource = np.dtype([(\"resource\", np.ubyte, 1)])\n",
      "C:\\Anaconda3\\envs\\tensorflow\\lib\\site-packages\\tensorboard\\compat\\tensorflow_stub\\dtypes.py:541: FutureWarning: Passing (type, 1) or '1type' as a synonym of type is deprecated; in a future version of numpy, it will be understood as (type, (1,)) / '(1,)type'.\n",
      "  _np_qint8 = np.dtype([(\"qint8\", np.int8, 1)])\n",
      "C:\\Anaconda3\\envs\\tensorflow\\lib\\site-packages\\tensorboard\\compat\\tensorflow_stub\\dtypes.py:542: FutureWarning: Passing (type, 1) or '1type' as a synonym of type is deprecated; in a future version of numpy, it will be understood as (type, (1,)) / '(1,)type'.\n",
      "  _np_quint8 = np.dtype([(\"quint8\", np.uint8, 1)])\n",
      "C:\\Anaconda3\\envs\\tensorflow\\lib\\site-packages\\tensorboard\\compat\\tensorflow_stub\\dtypes.py:543: FutureWarning: Passing (type, 1) or '1type' as a synonym of type is deprecated; in a future version of numpy, it will be understood as (type, (1,)) / '(1,)type'.\n",
      "  _np_qint16 = np.dtype([(\"qint16\", np.int16, 1)])\n",
      "C:\\Anaconda3\\envs\\tensorflow\\lib\\site-packages\\tensorboard\\compat\\tensorflow_stub\\dtypes.py:544: FutureWarning: Passing (type, 1) or '1type' as a synonym of type is deprecated; in a future version of numpy, it will be understood as (type, (1,)) / '(1,)type'.\n",
      "  _np_quint16 = np.dtype([(\"quint16\", np.uint16, 1)])\n",
      "C:\\Anaconda3\\envs\\tensorflow\\lib\\site-packages\\tensorboard\\compat\\tensorflow_stub\\dtypes.py:545: FutureWarning: Passing (type, 1) or '1type' as a synonym of type is deprecated; in a future version of numpy, it will be understood as (type, (1,)) / '(1,)type'.\n",
      "  _np_qint32 = np.dtype([(\"qint32\", np.int32, 1)])\n",
      "C:\\Anaconda3\\envs\\tensorflow\\lib\\site-packages\\tensorboard\\compat\\tensorflow_stub\\dtypes.py:550: FutureWarning: Passing (type, 1) or '1type' as a synonym of type is deprecated; in a future version of numpy, it will be understood as (type, (1,)) / '(1,)type'.\n",
      "  np_resource = np.dtype([(\"resource\", np.ubyte, 1)])\n"
     ]
    }
   ],
   "source": [
    "import keras\n",
    "from keras.models import Sequential #inicializar los parámetros de la red neuronal\n",
    "from keras.layers import Dense #crear las capas de la red"
   ]
  },
  {
   "cell_type": "markdown",
   "metadata": {
    "colab_type": "text",
    "id": "ezfPlyegbOEy"
   },
   "source": [
    "# Inicializar la RNA"
   ]
  },
  {
   "cell_type": "code",
   "execution_count": 30,
   "metadata": {
    "colab": {},
    "colab_type": "code",
    "id": "zRmQjNVzbOEz"
   },
   "outputs": [],
   "source": [
    "classifier = Sequential() #inicializar los parámetros de la red neuronal"
   ]
  },
  {
   "cell_type": "markdown",
   "metadata": {
    "colab_type": "text",
    "id": "ML7H-iqsbOE1"
   },
   "source": [
    "# Añadir las capas de entrada y primera capa oculta\n"
   ]
  },
  {
   "cell_type": "code",
   "execution_count": 31,
   "metadata": {
    "colab": {},
    "colab_type": "code",
    "id": "amkkZxnebOE1"
   },
   "outputs": [],
   "source": [
    "classifier.add(Dense(units = 6, kernel_initializer = \"uniform\",  \n",
    "                     activation = \"relu\", input_dim = 11))"
   ]
  },
  {
   "cell_type": "markdown",
   "metadata": {
    "colab_type": "text",
    "id": "xKoC5UOwbOE3"
   },
   "source": [
    "# Añadir la segunda capa oculta"
   ]
  },
  {
   "cell_type": "code",
   "execution_count": 32,
   "metadata": {
    "colab": {},
    "colab_type": "code",
    "id": "ZTDhh_JibOE3"
   },
   "outputs": [],
   "source": [
    "classifier.add(Dense(units = 6, kernel_initializer = \"uniform\",  activation = \"relu\"))"
   ]
  },
  {
   "cell_type": "code",
   "execution_count": 33,
   "metadata": {},
   "outputs": [],
   "source": [
    "classifier.add(Dropout(rate = 0.1))"
   ]
  },
  {
   "cell_type": "markdown",
   "metadata": {
    "colab_type": "text",
    "id": "wvUfptEtbOE5"
   },
   "source": [
    "# Añadir la capa de salida"
   ]
  },
  {
   "cell_type": "code",
   "execution_count": 34,
   "metadata": {
    "colab": {},
    "colab_type": "code",
    "id": "6C2x9RUGbOE5"
   },
   "outputs": [],
   "source": [
    "classifier.add(Dense(units = 1, kernel_initializer = \"uniform\",  activation = \"sigmoid\"))"
   ]
  },
  {
   "cell_type": "markdown",
   "metadata": {
    "colab_type": "text",
    "id": "_Je4JFqsbOE7"
   },
   "source": [
    "# Compilar la RNA"
   ]
  },
  {
   "cell_type": "code",
   "execution_count": 35,
   "metadata": {
    "colab": {},
    "colab_type": "code",
    "id": "f89xXBswbOE7"
   },
   "outputs": [],
   "source": [
    "classifier.compile(optimizer = \"adam\", loss = \"mae\", metrics = [\"accuracy\"])"
   ]
  },
  {
   "cell_type": "markdown",
   "metadata": {
    "colab_type": "text",
    "id": "Dr34zpQrbOE9"
   },
   "source": [
    "# Ajustamos la RNA al Conjunto de Entrenamiento"
   ]
  },
  {
   "cell_type": "code",
   "execution_count": 36,
   "metadata": {
    "colab": {
     "base_uri": "https://localhost:8080/",
     "height": 1000
    },
    "colab_type": "code",
    "id": "bwNUtZp7bOE9",
    "outputId": "d21731d6-ef82-47ed-bf24-1b22d0df0b4e"
   },
   "outputs": [
    {
     "name": "stdout",
     "output_type": "stream",
     "text": [
      "Epoch 1/100\n",
      "8000/8000 [==============================] - 0s 49us/step - loss: 0.2777 - accuracy: 0.7956\n",
      "Epoch 2/100\n",
      "8000/8000 [==============================] - 0s 38us/step - loss: 0.2017 - accuracy: 0.7960\n",
      "Epoch 3/100\n",
      "8000/8000 [==============================] - 0s 37us/step - loss: 0.1935 - accuracy: 0.8025\n",
      "Epoch 4/100\n",
      "8000/8000 [==============================] - 0s 36us/step - loss: 0.1785 - accuracy: 0.8324\n",
      "Epoch 5/100\n",
      "8000/8000 [==============================] - 0s 36us/step - loss: 0.1724 - accuracy: 0.8356\n",
      "Epoch 6/100\n",
      "8000/8000 [==============================] - 0s 36us/step - loss: 0.1703 - accuracy: 0.8353\n",
      "Epoch 7/100\n",
      "8000/8000 [==============================] - 0s 37us/step - loss: 0.1683 - accuracy: 0.8360\n",
      "Epoch 8/100\n",
      "8000/8000 [==============================] - 0s 36us/step - loss: 0.1668 - accuracy: 0.8372\n",
      "Epoch 9/100\n",
      "8000/8000 [==============================] - 0s 36us/step - loss: 0.1662 - accuracy: 0.8372\n",
      "Epoch 10/100\n",
      "8000/8000 [==============================] - 0s 36us/step - loss: 0.1653 - accuracy: 0.8369\n",
      "Epoch 11/100\n",
      "8000/8000 [==============================] - 0s 36us/step - loss: 0.1653 - accuracy: 0.8366\n",
      "Epoch 12/100\n",
      "8000/8000 [==============================] - 0s 37us/step - loss: 0.1640 - accuracy: 0.8378\n",
      "Epoch 13/100\n",
      "8000/8000 [==============================] - 0s 38us/step - loss: 0.1641 - accuracy: 0.8385\n",
      "Epoch 14/100\n",
      "8000/8000 [==============================] - 0s 38us/step - loss: 0.1640 - accuracy: 0.8384\n",
      "Epoch 15/100\n",
      "8000/8000 [==============================] - 0s 38us/step - loss: 0.1647 - accuracy: 0.8376\n",
      "Epoch 16/100\n",
      "8000/8000 [==============================] - 0s 38us/step - loss: 0.1640 - accuracy: 0.8380\n",
      "Epoch 17/100\n",
      "8000/8000 [==============================] - 0s 37us/step - loss: 0.1634 - accuracy: 0.8380\n",
      "Epoch 18/100\n",
      "8000/8000 [==============================] - 0s 37us/step - loss: 0.1636 - accuracy: 0.8380\n",
      "Epoch 19/100\n",
      "8000/8000 [==============================] - 0s 37us/step - loss: 0.1628 - accuracy: 0.8395\n",
      "Epoch 20/100\n",
      "8000/8000 [==============================] - 0s 37us/step - loss: 0.1636 - accuracy: 0.8376\n",
      "Epoch 21/100\n",
      "8000/8000 [==============================] - 0s 37us/step - loss: 0.1624 - accuracy: 0.8391\n",
      "Epoch 22/100\n",
      "8000/8000 [==============================] - 0s 37us/step - loss: 0.1625 - accuracy: 0.8391\n",
      "Epoch 23/100\n",
      "8000/8000 [==============================] - 0s 37us/step - loss: 0.1610 - accuracy: 0.8406\n",
      "Epoch 24/100\n",
      "8000/8000 [==============================] - 0s 37us/step - loss: 0.1617 - accuracy: 0.8401\n",
      "Epoch 25/100\n",
      "8000/8000 [==============================] - 0s 37us/step - loss: 0.1610 - accuracy: 0.8410\n",
      "Epoch 26/100\n",
      "8000/8000 [==============================] - 0s 37us/step - loss: 0.1607 - accuracy: 0.8409\n",
      "Epoch 27/100\n",
      "8000/8000 [==============================] - 0s 37us/step - loss: 0.1614 - accuracy: 0.8411\n",
      "Epoch 28/100\n",
      "8000/8000 [==============================] - 0s 36us/step - loss: 0.1612 - accuracy: 0.8397\n",
      "Epoch 29/100\n",
      "8000/8000 [==============================] - 0s 37us/step - loss: 0.1609 - accuracy: 0.8400\n",
      "Epoch 30/100\n",
      "8000/8000 [==============================] - 0s 36us/step - loss: 0.1606 - accuracy: 0.8409\n",
      "Epoch 31/100\n",
      "8000/8000 [==============================] - 0s 38us/step - loss: 0.1608 - accuracy: 0.8400\n",
      "Epoch 32/100\n",
      "8000/8000 [==============================] - 0s 37us/step - loss: 0.1607 - accuracy: 0.8400\n",
      "Epoch 33/100\n",
      "8000/8000 [==============================] - 0s 37us/step - loss: 0.1604 - accuracy: 0.8415\n",
      "Epoch 34/100\n",
      "8000/8000 [==============================] - 0s 37us/step - loss: 0.1604 - accuracy: 0.8410\n",
      "Epoch 35/100\n",
      "8000/8000 [==============================] - 0s 36us/step - loss: 0.1605 - accuracy: 0.8401\n",
      "Epoch 36/100\n",
      "8000/8000 [==============================] - 0s 37us/step - loss: 0.1593 - accuracy: 0.8426\n",
      "Epoch 37/100\n",
      "8000/8000 [==============================] - 0s 37us/step - loss: 0.1593 - accuracy: 0.8424\n",
      "Epoch 38/100\n",
      "8000/8000 [==============================] - 0s 37us/step - loss: 0.1591 - accuracy: 0.8426\n",
      "Epoch 39/100\n",
      "8000/8000 [==============================] - 0s 36us/step - loss: 0.1595 - accuracy: 0.8415\n",
      "Epoch 40/100\n",
      "8000/8000 [==============================] - 0s 37us/step - loss: 0.1587 - accuracy: 0.8424\n",
      "Epoch 41/100\n",
      "8000/8000 [==============================] - 0s 37us/step - loss: 0.1581 - accuracy: 0.8438\n",
      "Epoch 42/100\n",
      "8000/8000 [==============================] - 0s 37us/step - loss: 0.1579 - accuracy: 0.8439\n",
      "Epoch 43/100\n",
      "8000/8000 [==============================] - 0s 37us/step - loss: 0.1573 - accuracy: 0.8436\n",
      "Epoch 44/100\n",
      "8000/8000 [==============================] - 0s 37us/step - loss: 0.1576 - accuracy: 0.8431\n",
      "Epoch 45/100\n",
      "8000/8000 [==============================] - 0s 37us/step - loss: 0.1569 - accuracy: 0.8445\n",
      "Epoch 46/100\n",
      "8000/8000 [==============================] - 0s 38us/step - loss: 0.1576 - accuracy: 0.8438\n",
      "Epoch 47/100\n",
      "8000/8000 [==============================] - 0s 40us/step - loss: 0.1567 - accuracy: 0.8446\n",
      "Epoch 48/100\n",
      "8000/8000 [==============================] - 0s 39us/step - loss: 0.1569 - accuracy: 0.8445\n",
      "Epoch 49/100\n",
      "8000/8000 [==============================] - 0s 38us/step - loss: 0.1571 - accuracy: 0.8435\n",
      "Epoch 50/100\n",
      "8000/8000 [==============================] - 0s 39us/step - loss: 0.1569 - accuracy: 0.8445\n",
      "Epoch 51/100\n",
      "8000/8000 [==============================] - 0s 36us/step - loss: 0.1577 - accuracy: 0.8436\n",
      "Epoch 52/100\n",
      "8000/8000 [==============================] - 0s 33us/step - loss: 0.1563 - accuracy: 0.8453\n",
      "Epoch 53/100\n",
      "8000/8000 [==============================] - 0s 34us/step - loss: 0.1566 - accuracy: 0.8440\n",
      "Epoch 54/100\n",
      "8000/8000 [==============================] - 0s 33us/step - loss: 0.1569 - accuracy: 0.8441\n",
      "Epoch 55/100\n",
      "8000/8000 [==============================] - 0s 33us/step - loss: 0.1559 - accuracy: 0.8451\n",
      "Epoch 56/100\n",
      "8000/8000 [==============================] - 0s 34us/step - loss: 0.1568 - accuracy: 0.8447\n",
      "Epoch 57/100\n",
      "8000/8000 [==============================] - 0s 34us/step - loss: 0.1561 - accuracy: 0.8446\n",
      "Epoch 58/100\n",
      "8000/8000 [==============================] - 0s 33us/step - loss: 0.1566 - accuracy: 0.8445\n",
      "Epoch 59/100\n",
      "8000/8000 [==============================] - 0s 33us/step - loss: 0.1562 - accuracy: 0.8451\n",
      "Epoch 60/100\n",
      "8000/8000 [==============================] - 0s 34us/step - loss: 0.1566 - accuracy: 0.8440\n",
      "Epoch 61/100\n",
      "8000/8000 [==============================] - 0s 34us/step - loss: 0.1562 - accuracy: 0.8451\n",
      "Epoch 62/100\n",
      "8000/8000 [==============================] - 0s 33us/step - loss: 0.1561 - accuracy: 0.8444\n",
      "Epoch 63/100\n",
      "8000/8000 [==============================] - 0s 33us/step - loss: 0.1563 - accuracy: 0.8445\n",
      "Epoch 64/100\n",
      "8000/8000 [==============================] - 0s 33us/step - loss: 0.1560 - accuracy: 0.8447\n",
      "Epoch 65/100\n",
      "8000/8000 [==============================] - 0s 34us/step - loss: 0.1561 - accuracy: 0.8445\n",
      "Epoch 66/100\n",
      "8000/8000 [==============================] - 0s 33us/step - loss: 0.1560 - accuracy: 0.8449\n",
      "Epoch 67/100\n",
      "8000/8000 [==============================] - 0s 35us/step - loss: 0.1552 - accuracy: 0.8460\n",
      "Epoch 68/100\n",
      "8000/8000 [==============================] - 0s 33us/step - loss: 0.1556 - accuracy: 0.8450\n",
      "Epoch 69/100\n",
      "8000/8000 [==============================] - 0s 33us/step - loss: 0.1560 - accuracy: 0.8447\n",
      "Epoch 70/100\n",
      "8000/8000 [==============================] - 0s 33us/step - loss: 0.1552 - accuracy: 0.8460\n",
      "Epoch 71/100\n",
      "8000/8000 [==============================] - 0s 34us/step - loss: 0.1552 - accuracy: 0.8460\n",
      "Epoch 72/100\n",
      "8000/8000 [==============================] - 0s 33us/step - loss: 0.1551 - accuracy: 0.8460\n",
      "Epoch 73/100\n",
      "8000/8000 [==============================] - 0s 34us/step - loss: 0.1552 - accuracy: 0.8459\n",
      "Epoch 74/100\n",
      "8000/8000 [==============================] - 0s 34us/step - loss: 0.1553 - accuracy: 0.8450\n",
      "Epoch 75/100\n",
      "8000/8000 [==============================] - 0s 33us/step - loss: 0.1550 - accuracy: 0.8455\n",
      "Epoch 76/100\n",
      "8000/8000 [==============================] - 0s 37us/step - loss: 0.1546 - accuracy: 0.8466\n",
      "Epoch 77/100\n",
      "8000/8000 [==============================] - 0s 34us/step - loss: 0.1549 - accuracy: 0.8460\n",
      "Epoch 78/100\n",
      "8000/8000 [==============================] - 0s 36us/step - loss: 0.1541 - accuracy: 0.8471\n",
      "Epoch 79/100\n",
      "8000/8000 [==============================] - 0s 35us/step - loss: 0.1547 - accuracy: 0.8453\n",
      "Epoch 80/100\n",
      "8000/8000 [==============================] - 0s 36us/step - loss: 0.1542 - accuracy: 0.8470\n",
      "Epoch 81/100\n",
      "8000/8000 [==============================] - 0s 36us/step - loss: 0.1540 - accuracy: 0.8468\n",
      "Epoch 82/100\n",
      "8000/8000 [==============================] - 0s 35us/step - loss: 0.1544 - accuracy: 0.8461\n",
      "Epoch 83/100\n",
      "8000/8000 [==============================] - 0s 37us/step - loss: 0.1539 - accuracy: 0.8469\n",
      "Epoch 84/100\n",
      "8000/8000 [==============================] - 0s 36us/step - loss: 0.1540 - accuracy: 0.8464\n",
      "Epoch 85/100\n",
      "8000/8000 [==============================] - 0s 36us/step - loss: 0.1548 - accuracy: 0.8457\n",
      "Epoch 86/100\n",
      "8000/8000 [==============================] - 0s 36us/step - loss: 0.1536 - accuracy: 0.8469\n",
      "Epoch 87/100\n",
      "8000/8000 [==============================] - 0s 36us/step - loss: 0.1548 - accuracy: 0.8455\n",
      "Epoch 88/100\n",
      "8000/8000 [==============================] - 0s 35us/step - loss: 0.1540 - accuracy: 0.8469\n",
      "Epoch 89/100\n",
      "8000/8000 [==============================] - 0s 35us/step - loss: 0.1535 - accuracy: 0.8474\n",
      "Epoch 90/100\n",
      "8000/8000 [==============================] - 0s 36us/step - loss: 0.1527 - accuracy: 0.8479\n",
      "Epoch 91/100\n",
      "8000/8000 [==============================] - 0s 36us/step - loss: 0.1540 - accuracy: 0.8462\n",
      "Epoch 92/100\n",
      "8000/8000 [==============================] - 0s 36us/step - loss: 0.1529 - accuracy: 0.8482\n",
      "Epoch 93/100\n",
      "8000/8000 [==============================] - 0s 36us/step - loss: 0.1526 - accuracy: 0.8480\n",
      "Epoch 94/100\n",
      "8000/8000 [==============================] - 0s 36us/step - loss: 0.1519 - accuracy: 0.8495\n",
      "Epoch 95/100\n",
      "8000/8000 [==============================] - 0s 36us/step - loss: 0.1518 - accuracy: 0.8490\n",
      "Epoch 96/100\n",
      "8000/8000 [==============================] - 0s 36us/step - loss: 0.1529 - accuracy: 0.8479\n",
      "Epoch 97/100\n",
      "8000/8000 [==============================] - 0s 35us/step - loss: 0.1522 - accuracy: 0.8487\n",
      "Epoch 98/100\n",
      "8000/8000 [==============================] - 0s 36us/step - loss: 0.1525 - accuracy: 0.8484\n",
      "Epoch 99/100\n",
      "8000/8000 [==============================] - 0s 37us/step - loss: 0.1526 - accuracy: 0.8481\n",
      "Epoch 100/100\n",
      "8000/8000 [==============================] - 0s 35us/step - loss: 0.1528 - accuracy: 0.8474\n"
     ]
    },
    {
     "data": {
      "text/plain": [
       "<keras.callbacks.callbacks.History at 0x286aa0532c8>"
      ]
     },
     "execution_count": 36,
     "metadata": {},
     "output_type": "execute_result"
    }
   ],
   "source": [
    "classifier.fit(X_train, y_train,  batch_size = 10, epochs = 100)"
   ]
  },
  {
   "cell_type": "markdown",
   "metadata": {
    "colab_type": "text",
    "id": "jsUJ7kBnbOE_"
   },
   "source": [
    "# Parte 3 - Evaluar el modelo y calcular predicciones finales"
   ]
  },
  {
   "cell_type": "markdown",
   "metadata": {
    "colab_type": "text",
    "id": "7ZWV9kiBbOFA"
   },
   "source": [
    "# Predicción de los resultados con el Conjunto de Testing"
   ]
  },
  {
   "cell_type": "code",
   "execution_count": 13,
   "metadata": {
    "colab": {},
    "colab_type": "code",
    "id": "XVzX_pIhbOFA"
   },
   "outputs": [],
   "source": [
    "y_pred  = classifier.predict(X_test)\n",
    "y_pred = (y_pred>0.5)"
   ]
  },
  {
   "cell_type": "markdown",
   "metadata": {},
   "source": [
    "# Tarea"
   ]
  },
  {
   "cell_type": "code",
   "execution_count": 14,
   "metadata": {},
   "outputs": [
    {
     "data": {
      "text/html": [
       "<div>\n",
       "<style scoped>\n",
       "    .dataframe tbody tr th:only-of-type {\n",
       "        vertical-align: middle;\n",
       "    }\n",
       "\n",
       "    .dataframe tbody tr th {\n",
       "        vertical-align: top;\n",
       "    }\n",
       "\n",
       "    .dataframe thead th {\n",
       "        text-align: right;\n",
       "    }\n",
       "</style>\n",
       "<table border=\"1\" class=\"dataframe\">\n",
       "  <thead>\n",
       "    <tr style=\"text-align: right;\">\n",
       "      <th></th>\n",
       "      <th>RowNumber</th>\n",
       "      <th>CustomerId</th>\n",
       "      <th>Surname</th>\n",
       "      <th>CreditScore</th>\n",
       "      <th>Geography</th>\n",
       "      <th>Gender</th>\n",
       "      <th>Age</th>\n",
       "      <th>Tenure</th>\n",
       "      <th>Balance</th>\n",
       "      <th>NumOfProducts</th>\n",
       "      <th>HasCrCard</th>\n",
       "      <th>IsActiveMember</th>\n",
       "      <th>EstimatedSalary</th>\n",
       "      <th>Exited</th>\n",
       "    </tr>\n",
       "  </thead>\n",
       "  <tbody>\n",
       "    <tr>\n",
       "      <th>0</th>\n",
       "      <td>1</td>\n",
       "      <td>15634602</td>\n",
       "      <td>Hargrave</td>\n",
       "      <td>619</td>\n",
       "      <td>France</td>\n",
       "      <td>Female</td>\n",
       "      <td>42</td>\n",
       "      <td>2</td>\n",
       "      <td>0.00</td>\n",
       "      <td>1</td>\n",
       "      <td>1</td>\n",
       "      <td>1</td>\n",
       "      <td>101348.88</td>\n",
       "      <td>1</td>\n",
       "    </tr>\n",
       "    <tr>\n",
       "      <th>1</th>\n",
       "      <td>2</td>\n",
       "      <td>15647311</td>\n",
       "      <td>Hill</td>\n",
       "      <td>608</td>\n",
       "      <td>Spain</td>\n",
       "      <td>Female</td>\n",
       "      <td>41</td>\n",
       "      <td>1</td>\n",
       "      <td>83807.86</td>\n",
       "      <td>1</td>\n",
       "      <td>0</td>\n",
       "      <td>1</td>\n",
       "      <td>112542.58</td>\n",
       "      <td>0</td>\n",
       "    </tr>\n",
       "    <tr>\n",
       "      <th>2</th>\n",
       "      <td>3</td>\n",
       "      <td>15619304</td>\n",
       "      <td>Onio</td>\n",
       "      <td>502</td>\n",
       "      <td>France</td>\n",
       "      <td>Female</td>\n",
       "      <td>42</td>\n",
       "      <td>8</td>\n",
       "      <td>159660.80</td>\n",
       "      <td>3</td>\n",
       "      <td>1</td>\n",
       "      <td>0</td>\n",
       "      <td>113931.57</td>\n",
       "      <td>1</td>\n",
       "    </tr>\n",
       "    <tr>\n",
       "      <th>3</th>\n",
       "      <td>4</td>\n",
       "      <td>15701354</td>\n",
       "      <td>Boni</td>\n",
       "      <td>699</td>\n",
       "      <td>France</td>\n",
       "      <td>Female</td>\n",
       "      <td>39</td>\n",
       "      <td>1</td>\n",
       "      <td>0.00</td>\n",
       "      <td>2</td>\n",
       "      <td>0</td>\n",
       "      <td>0</td>\n",
       "      <td>93826.63</td>\n",
       "      <td>0</td>\n",
       "    </tr>\n",
       "    <tr>\n",
       "      <th>4</th>\n",
       "      <td>5</td>\n",
       "      <td>15737888</td>\n",
       "      <td>Mitchell</td>\n",
       "      <td>850</td>\n",
       "      <td>Spain</td>\n",
       "      <td>Female</td>\n",
       "      <td>43</td>\n",
       "      <td>2</td>\n",
       "      <td>125510.82</td>\n",
       "      <td>1</td>\n",
       "      <td>1</td>\n",
       "      <td>1</td>\n",
       "      <td>79084.10</td>\n",
       "      <td>0</td>\n",
       "    </tr>\n",
       "    <tr>\n",
       "      <th>...</th>\n",
       "      <td>...</td>\n",
       "      <td>...</td>\n",
       "      <td>...</td>\n",
       "      <td>...</td>\n",
       "      <td>...</td>\n",
       "      <td>...</td>\n",
       "      <td>...</td>\n",
       "      <td>...</td>\n",
       "      <td>...</td>\n",
       "      <td>...</td>\n",
       "      <td>...</td>\n",
       "      <td>...</td>\n",
       "      <td>...</td>\n",
       "      <td>...</td>\n",
       "    </tr>\n",
       "    <tr>\n",
       "      <th>9995</th>\n",
       "      <td>9996</td>\n",
       "      <td>15606229</td>\n",
       "      <td>Obijiaku</td>\n",
       "      <td>771</td>\n",
       "      <td>France</td>\n",
       "      <td>Male</td>\n",
       "      <td>39</td>\n",
       "      <td>5</td>\n",
       "      <td>0.00</td>\n",
       "      <td>2</td>\n",
       "      <td>1</td>\n",
       "      <td>0</td>\n",
       "      <td>96270.64</td>\n",
       "      <td>0</td>\n",
       "    </tr>\n",
       "    <tr>\n",
       "      <th>9996</th>\n",
       "      <td>9997</td>\n",
       "      <td>15569892</td>\n",
       "      <td>Johnstone</td>\n",
       "      <td>516</td>\n",
       "      <td>France</td>\n",
       "      <td>Male</td>\n",
       "      <td>35</td>\n",
       "      <td>10</td>\n",
       "      <td>57369.61</td>\n",
       "      <td>1</td>\n",
       "      <td>1</td>\n",
       "      <td>1</td>\n",
       "      <td>101699.77</td>\n",
       "      <td>0</td>\n",
       "    </tr>\n",
       "    <tr>\n",
       "      <th>9997</th>\n",
       "      <td>9998</td>\n",
       "      <td>15584532</td>\n",
       "      <td>Liu</td>\n",
       "      <td>709</td>\n",
       "      <td>France</td>\n",
       "      <td>Female</td>\n",
       "      <td>36</td>\n",
       "      <td>7</td>\n",
       "      <td>0.00</td>\n",
       "      <td>1</td>\n",
       "      <td>0</td>\n",
       "      <td>1</td>\n",
       "      <td>42085.58</td>\n",
       "      <td>1</td>\n",
       "    </tr>\n",
       "    <tr>\n",
       "      <th>9998</th>\n",
       "      <td>9999</td>\n",
       "      <td>15682355</td>\n",
       "      <td>Sabbatini</td>\n",
       "      <td>772</td>\n",
       "      <td>Germany</td>\n",
       "      <td>Male</td>\n",
       "      <td>42</td>\n",
       "      <td>3</td>\n",
       "      <td>75075.31</td>\n",
       "      <td>2</td>\n",
       "      <td>1</td>\n",
       "      <td>0</td>\n",
       "      <td>92888.52</td>\n",
       "      <td>1</td>\n",
       "    </tr>\n",
       "    <tr>\n",
       "      <th>9999</th>\n",
       "      <td>10000</td>\n",
       "      <td>15628319</td>\n",
       "      <td>Walker</td>\n",
       "      <td>792</td>\n",
       "      <td>France</td>\n",
       "      <td>Female</td>\n",
       "      <td>28</td>\n",
       "      <td>4</td>\n",
       "      <td>130142.79</td>\n",
       "      <td>1</td>\n",
       "      <td>1</td>\n",
       "      <td>0</td>\n",
       "      <td>38190.78</td>\n",
       "      <td>0</td>\n",
       "    </tr>\n",
       "  </tbody>\n",
       "</table>\n",
       "<p>10000 rows × 14 columns</p>\n",
       "</div>"
      ],
      "text/plain": [
       "      RowNumber  CustomerId    Surname  CreditScore Geography  Gender  Age  \\\n",
       "0             1    15634602   Hargrave          619    France  Female   42   \n",
       "1             2    15647311       Hill          608     Spain  Female   41   \n",
       "2             3    15619304       Onio          502    France  Female   42   \n",
       "3             4    15701354       Boni          699    France  Female   39   \n",
       "4             5    15737888   Mitchell          850     Spain  Female   43   \n",
       "...         ...         ...        ...          ...       ...     ...  ...   \n",
       "9995       9996    15606229   Obijiaku          771    France    Male   39   \n",
       "9996       9997    15569892  Johnstone          516    France    Male   35   \n",
       "9997       9998    15584532        Liu          709    France  Female   36   \n",
       "9998       9999    15682355  Sabbatini          772   Germany    Male   42   \n",
       "9999      10000    15628319     Walker          792    France  Female   28   \n",
       "\n",
       "      Tenure    Balance  NumOfProducts  HasCrCard  IsActiveMember  \\\n",
       "0          2       0.00              1          1               1   \n",
       "1          1   83807.86              1          0               1   \n",
       "2          8  159660.80              3          1               0   \n",
       "3          1       0.00              2          0               0   \n",
       "4          2  125510.82              1          1               1   \n",
       "...      ...        ...            ...        ...             ...   \n",
       "9995       5       0.00              2          1               0   \n",
       "9996      10   57369.61              1          1               1   \n",
       "9997       7       0.00              1          0               1   \n",
       "9998       3   75075.31              2          1               0   \n",
       "9999       4  130142.79              1          1               0   \n",
       "\n",
       "      EstimatedSalary  Exited  \n",
       "0           101348.88       1  \n",
       "1           112542.58       0  \n",
       "2           113931.57       1  \n",
       "3            93826.63       0  \n",
       "4            79084.10       0  \n",
       "...               ...     ...  \n",
       "9995         96270.64       0  \n",
       "9996        101699.77       0  \n",
       "9997         42085.58       1  \n",
       "9998         92888.52       1  \n",
       "9999         38190.78       0  \n",
       "\n",
       "[10000 rows x 14 columns]"
      ]
     },
     "execution_count": 14,
     "metadata": {},
     "output_type": "execute_result"
    }
   ],
   "source": [
    "dataset"
   ]
  },
  {
   "cell_type": "code",
   "execution_count": 15,
   "metadata": {},
   "outputs": [],
   "source": [
    "data = pd.DataFrame(index=[0],columns=dataset.columns)"
   ]
  },
  {
   "cell_type": "code",
   "execution_count": 16,
   "metadata": {},
   "outputs": [],
   "source": [
    "data.iloc[0,3:-1] = np.array([600,'France','Male',40,3,60000,2,1,1,50000])"
   ]
  },
  {
   "cell_type": "code",
   "execution_count": 17,
   "metadata": {},
   "outputs": [],
   "source": [
    "data = data.dropna(axis=1)"
   ]
  },
  {
   "cell_type": "code",
   "execution_count": 18,
   "metadata": {},
   "outputs": [],
   "source": [
    "X_h = data.values"
   ]
  },
  {
   "cell_type": "code",
   "execution_count": 19,
   "metadata": {},
   "outputs": [],
   "source": [
    "X_h[:, 1] = labelencoder_X_1.fit_transform(X_h[:, 1])\n",
    "X_h[:, 2] = labelencoder_X_2.fit_transform(X_h[:, 2])\n",
    "X_h = onehotencoder.transform(X_h)\n",
    "X_h = X_h[:, 1:]"
   ]
  },
  {
   "cell_type": "code",
   "execution_count": 20,
   "metadata": {},
   "outputs": [],
   "source": [
    "y_pred_tarea  = classifier.predict(sc_X.transform(X_h))\n",
    "y_pred_tarea = (y_pred_tarea>0.5)"
   ]
  },
  {
   "cell_type": "markdown",
   "metadata": {
    "colab_type": "text",
    "id": "W0R6AD0bbOFD"
   },
   "source": [
    "# Elaborar una matriz de confusión"
   ]
  },
  {
   "cell_type": "code",
   "execution_count": 21,
   "metadata": {
    "colab": {},
    "colab_type": "code",
    "id": "cv-193GvbOFD"
   },
   "outputs": [],
   "source": [
    "from sklearn.metrics import confusion_matrix\n",
    "cm = confusion_matrix(y_test, y_pred)"
   ]
  },
  {
   "cell_type": "code",
   "execution_count": 22,
   "metadata": {},
   "outputs": [
    {
     "data": {
      "text/plain": [
       "array([[1518,   77],\n",
       "       [ 199,  206]], dtype=int64)"
      ]
     },
     "execution_count": 22,
     "metadata": {},
     "output_type": "execute_result"
    }
   ],
   "source": [
    "cm"
   ]
  },
  {
   "cell_type": "markdown",
   "metadata": {
    "colab_type": "text",
    "id": "3qBAu2KobrIh"
   },
   "source": [
    "## Parte 4 - Evaluar, mejorar y Ajustar la RNA\n"
   ]
  },
  {
   "cell_type": "markdown",
   "metadata": {
    "colab_type": "text",
    "id": "E3by0rPFbuM3"
   },
   "source": [
    "### Evaluar la **RNA**\n"
   ]
  },
  {
   "cell_type": "code",
   "execution_count": 40,
   "metadata": {
    "colab": {},
    "colab_type": "code",
    "id": "Xn44nPWXbsbS"
   },
   "outputs": [],
   "source": [
    "from keras.wrappers.scikit_learn import KerasClassifier\n",
    "from sklearn.model_selection import cross_val_score"
   ]
  },
  {
   "cell_type": "code",
   "execution_count": 24,
   "metadata": {
    "colab": {},
    "colab_type": "code",
    "id": "VEv9LR5MbwJ_"
   },
   "outputs": [],
   "source": [
    "def build_classifier():\n",
    "  classifier = Sequential()\n",
    "  classifier.add(Dense(units = 6, kernel_initializer = \"uniform\", activation = \"relu\", input_dim = 11))\n",
    "  classifier.add(Dense(units = 6, kernel_initializer = \"uniform\", activation = \"relu\"))\n",
    "  classifier.add(Dense(units = 1, kernel_initializer = \"uniform\", activation = \"sigmoid\"))\n",
    "  classifier.compile(optimizer = \"adam\", loss = \"binary_crossentropy\", metrics = [\"accuracy\"])\n",
    "  return classifier"
   ]
  },
  {
   "cell_type": "code",
   "execution_count": 25,
   "metadata": {
    "colab": {
     "base_uri": "https://localhost:8080/",
     "height": 51
    },
    "colab_type": "code",
    "id": "84ER1wwKbx-s",
    "outputId": "6c5a2563-275c-426c-f7e3-0c20708acd05"
   },
   "outputs": [
    {
     "name": "stderr",
     "output_type": "stream",
     "text": [
      "[Parallel(n_jobs=-1)]: Using backend LokyBackend with 24 concurrent workers.\n",
      "[Parallel(n_jobs=-1)]: Done   7 out of  10 | elapsed:    2.5s remaining:    1.0s\n",
      "[Parallel(n_jobs=-1)]: Done  10 out of  10 | elapsed:    2.5s finished\n"
     ]
    }
   ],
   "source": [
    "classifier = KerasClassifier(build_fn = build_classifier, batch_size = 10, nb_epoch = 100)\n",
    "accuracies = cross_val_score(estimator=classifier, X = X_train, y = y_train, cv = 10, n_jobs=-1, verbose = 1)"
   ]
  },
  {
   "cell_type": "code",
   "execution_count": 26,
   "metadata": {
    "colab": {},
    "colab_type": "code",
    "id": "kH5SWOLjbz1J"
   },
   "outputs": [],
   "source": [
    "mean = accuracies.mean()\n",
    "variance = accuracies.std()"
   ]
  },
  {
   "cell_type": "code",
   "execution_count": 27,
   "metadata": {},
   "outputs": [
    {
     "data": {
      "text/plain": [
       "array([0.78625   , 0.79000002, 0.80000001, 0.78250003, 0.81625003,\n",
       "       0.81      , 0.78750002, 0.79374999, 0.79874998, 0.79500002])"
      ]
     },
     "execution_count": 27,
     "metadata": {},
     "output_type": "execute_result"
    }
   ],
   "source": [
    "accuracies"
   ]
  },
  {
   "cell_type": "markdown",
   "metadata": {
    "colab_type": "text",
    "id": "Mv-Hs66Tb3Mv"
   },
   "source": [
    "### Mejorar la RNA"
   ]
  },
  {
   "cell_type": "markdown",
   "metadata": {
    "colab_type": "text",
    "id": "d-TdOlIlb22x"
   },
   "source": [
    "#### Regularización de Dropout para evitar el *overfitting*\n"
   ]
  },
  {
   "cell_type": "markdown",
   "metadata": {
    "colab_type": "text",
    "id": "k0xNpbSSb7_D"
   },
   "source": [
    "### Ajustar la *RNA*\n"
   ]
  },
  {
   "cell_type": "code",
   "execution_count": 50,
   "metadata": {
    "colab": {},
    "colab_type": "code",
    "id": "4XOkEVJ_eE93"
   },
   "outputs": [],
   "source": [
    "from sklearn.model_selection import GridSearchCV\n",
    "from keras.layers import Dropout\n",
    "from sklearn.decomposition import PCA"
   ]
  },
  {
   "cell_type": "code",
   "execution_count": 77,
   "metadata": {
    "colab": {},
    "colab_type": "code",
    "id": "lURNzjkSb1Ce"
   },
   "outputs": [],
   "source": [
    "def build_classifier(optimizer,units):\n",
    "    classifier = Sequential()\n",
    "    classifier.add(Dense(units = units, kernel_initializer = \"uniform\",  activation = \"relu\", input_dim = 11))\n",
    "    classifier.add(Dense(units = units, kernel_initializer = \"uniform\",  activation = \"relu\"))\n",
    "    classifier.add(Dropout(rate = 0.1))\n",
    "    classifier.add(Dense(units = 1, kernel_initializer = \"uniform\",  activation = \"sigmoid\"))\n",
    "    classifier.compile(optimizer = optimizer, loss = \"binary_crossentropy\", metrics = [\"accuracy\"])\n",
    "    return classifier\n"
   ]
  },
  {
   "cell_type": "code",
   "execution_count": 78,
   "metadata": {
    "colab": {},
    "colab_type": "code",
    "id": "1mRpi1Kcb96V"
   },
   "outputs": [],
   "source": [
    "classifier = KerasClassifier(build_fn = build_classifier)"
   ]
  },
  {
   "cell_type": "code",
   "execution_count": 83,
   "metadata": {
    "colab": {},
    "colab_type": "code",
    "id": "KkRJLSzAb_6R"
   },
   "outputs": [],
   "source": [
    "parameters = {\n",
    "    'units':[6,12,24],\n",
    "    'batch_size' : [25,64],\n",
    "    'nb_epoch' : [100, 500], \n",
    "    'optimizer' : ['SGD', 'Adamax']\n",
    "}"
   ]
  },
  {
   "cell_type": "code",
   "execution_count": 84,
   "metadata": {
    "colab": {
     "base_uri": "https://localhost:8080/",
     "height": 922
    },
    "colab_type": "code",
    "id": "_Ejn37PBcB-7",
    "outputId": "608bcae3-2311-4466-b4f1-4f4998a075db"
   },
   "outputs": [
    {
     "name": "stdout",
     "output_type": "stream",
     "text": [
      "Fitting 10 folds for each of 24 candidates, totalling 240 fits\n"
     ]
    },
    {
     "name": "stderr",
     "output_type": "stream",
     "text": [
      "C:\\Anaconda3\\envs\\tensorflow\\lib\\site-packages\\joblib\\externals\\loky\\process_executor.py:705: UserWarning: A worker stopped while some jobs were given to the executor. This can be caused by a too short worker timeout or by a memory leak.\n",
      "  \"timeout or by a memory leak.\", UserWarning\n"
     ]
    },
    {
     "name": "stdout",
     "output_type": "stream",
     "text": [
      "Epoch 1/1\n",
      "8000/8000 [==============================] - 1s 159us/step - loss: 0.6048 - accuracy: 0.7956\n",
      "{'batch_size': 25, 'nb_epoch': 100, 'optimizer': 'SGD', 'units': 6}\n",
      "0.796\n"
     ]
    }
   ],
   "source": [
    "grid_search = GridSearchCV(estimator = classifier, \n",
    "                           param_grid = parameters, \n",
    "                           scoring = 'accuracy', \n",
    "                           cv=10,n_jobs=-1, verbose = 1)\n",
    "grid_search = grid_search.fit(X_train, y_train)\n",
    "\n",
    "best_parameters = grid_search.best_params_\n",
    "best_accuracy = grid_search.best_score_\n",
    "\n",
    "print(best_parameters)\n",
    "print(best_accuracy)"
   ]
  },
  {
   "cell_type": "code",
   "execution_count": null,
   "metadata": {},
   "outputs": [],
   "source": []
  },
  {
   "cell_type": "code",
   "execution_count": null,
   "metadata": {},
   "outputs": [],
   "source": []
  }
 ],
 "metadata": {
  "accelerator": "GPU",
  "colab": {
   "collapsed_sections": [],
   "name": "ann.ipynb",
   "provenance": [],
   "toc_visible": true
  },
  "kernelspec": {
   "display_name": "Python 3 (ipykernel)",
   "language": "python",
   "name": "python3"
  },
  "language_info": {
   "codemirror_mode": {
    "name": "ipython",
    "version": 3
   },
   "file_extension": ".py",
   "mimetype": "text/x-python",
   "name": "python",
   "nbconvert_exporter": "python",
   "pygments_lexer": "ipython3",
   "version": "3.7.12"
  }
 },
 "nbformat": 4,
 "nbformat_minor": 4
}
