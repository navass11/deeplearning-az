{
 "cells": [
  {
   "cell_type": "markdown",
   "metadata": {
    "colab_type": "text",
    "id": "kj7yYesKbctW"
   },
   "source": [
    "# Parte 1 - Construir el modelo de CNN\n",
    "\n",
    "# Importar las librerías y paquetes"
   ]
  },
  {
   "cell_type": "code",
   "execution_count": 1,
   "metadata": {
    "colab": {},
    "colab_type": "code",
    "id": "YBacLjT1Y81H"
   },
   "outputs": [
    {
     "name": "stderr",
     "output_type": "stream",
     "text": [
      "Using TensorFlow backend.\n",
      "C:\\Anaconda3\\envs\\tensorflow\\lib\\site-packages\\tensorflow\\python\\framework\\dtypes.py:516: FutureWarning: Passing (type, 1) or '1type' as a synonym of type is deprecated; in a future version of numpy, it will be understood as (type, (1,)) / '(1,)type'.\n",
      "  _np_qint8 = np.dtype([(\"qint8\", np.int8, 1)])\n",
      "C:\\Anaconda3\\envs\\tensorflow\\lib\\site-packages\\tensorflow\\python\\framework\\dtypes.py:517: FutureWarning: Passing (type, 1) or '1type' as a synonym of type is deprecated; in a future version of numpy, it will be understood as (type, (1,)) / '(1,)type'.\n",
      "  _np_quint8 = np.dtype([(\"quint8\", np.uint8, 1)])\n",
      "C:\\Anaconda3\\envs\\tensorflow\\lib\\site-packages\\tensorflow\\python\\framework\\dtypes.py:518: FutureWarning: Passing (type, 1) or '1type' as a synonym of type is deprecated; in a future version of numpy, it will be understood as (type, (1,)) / '(1,)type'.\n",
      "  _np_qint16 = np.dtype([(\"qint16\", np.int16, 1)])\n",
      "C:\\Anaconda3\\envs\\tensorflow\\lib\\site-packages\\tensorflow\\python\\framework\\dtypes.py:519: FutureWarning: Passing (type, 1) or '1type' as a synonym of type is deprecated; in a future version of numpy, it will be understood as (type, (1,)) / '(1,)type'.\n",
      "  _np_quint16 = np.dtype([(\"quint16\", np.uint16, 1)])\n",
      "C:\\Anaconda3\\envs\\tensorflow\\lib\\site-packages\\tensorflow\\python\\framework\\dtypes.py:520: FutureWarning: Passing (type, 1) or '1type' as a synonym of type is deprecated; in a future version of numpy, it will be understood as (type, (1,)) / '(1,)type'.\n",
      "  _np_qint32 = np.dtype([(\"qint32\", np.int32, 1)])\n",
      "C:\\Anaconda3\\envs\\tensorflow\\lib\\site-packages\\tensorflow\\python\\framework\\dtypes.py:525: FutureWarning: Passing (type, 1) or '1type' as a synonym of type is deprecated; in a future version of numpy, it will be understood as (type, (1,)) / '(1,)type'.\n",
      "  np_resource = np.dtype([(\"resource\", np.ubyte, 1)])\n",
      "C:\\Anaconda3\\envs\\tensorflow\\lib\\site-packages\\tensorboard\\compat\\tensorflow_stub\\dtypes.py:541: FutureWarning: Passing (type, 1) or '1type' as a synonym of type is deprecated; in a future version of numpy, it will be understood as (type, (1,)) / '(1,)type'.\n",
      "  _np_qint8 = np.dtype([(\"qint8\", np.int8, 1)])\n",
      "C:\\Anaconda3\\envs\\tensorflow\\lib\\site-packages\\tensorboard\\compat\\tensorflow_stub\\dtypes.py:542: FutureWarning: Passing (type, 1) or '1type' as a synonym of type is deprecated; in a future version of numpy, it will be understood as (type, (1,)) / '(1,)type'.\n",
      "  _np_quint8 = np.dtype([(\"quint8\", np.uint8, 1)])\n",
      "C:\\Anaconda3\\envs\\tensorflow\\lib\\site-packages\\tensorboard\\compat\\tensorflow_stub\\dtypes.py:543: FutureWarning: Passing (type, 1) or '1type' as a synonym of type is deprecated; in a future version of numpy, it will be understood as (type, (1,)) / '(1,)type'.\n",
      "  _np_qint16 = np.dtype([(\"qint16\", np.int16, 1)])\n",
      "C:\\Anaconda3\\envs\\tensorflow\\lib\\site-packages\\tensorboard\\compat\\tensorflow_stub\\dtypes.py:544: FutureWarning: Passing (type, 1) or '1type' as a synonym of type is deprecated; in a future version of numpy, it will be understood as (type, (1,)) / '(1,)type'.\n",
      "  _np_quint16 = np.dtype([(\"quint16\", np.uint16, 1)])\n",
      "C:\\Anaconda3\\envs\\tensorflow\\lib\\site-packages\\tensorboard\\compat\\tensorflow_stub\\dtypes.py:545: FutureWarning: Passing (type, 1) or '1type' as a synonym of type is deprecated; in a future version of numpy, it will be understood as (type, (1,)) / '(1,)type'.\n",
      "  _np_qint32 = np.dtype([(\"qint32\", np.int32, 1)])\n",
      "C:\\Anaconda3\\envs\\tensorflow\\lib\\site-packages\\tensorboard\\compat\\tensorflow_stub\\dtypes.py:550: FutureWarning: Passing (type, 1) or '1type' as a synonym of type is deprecated; in a future version of numpy, it will be understood as (type, (1,)) / '(1,)type'.\n",
      "  np_resource = np.dtype([(\"resource\", np.ubyte, 1)])\n"
     ]
    }
   ],
   "source": [
    "from keras.models import Sequential\n",
    "from keras.layers import Conv2D\n",
    "from keras.layers import MaxPooling2D\n",
    "from keras.layers import Flatten\n",
    "from keras.layers import Dense"
   ]
  },
  {
   "cell_type": "markdown",
   "metadata": {
    "colab_type": "text",
    "id": "AtczsRskbj2F"
   },
   "source": [
    "# Inicializar la CNN"
   ]
  },
  {
   "cell_type": "code",
   "execution_count": 2,
   "metadata": {
    "colab": {},
    "colab_type": "code",
    "id": "rQL9sTJ9Y_Vc"
   },
   "outputs": [],
   "source": [
    "classifier = Sequential()\n"
   ]
  },
  {
   "cell_type": "markdown",
   "metadata": {
    "colab_type": "text",
    "id": "tUbAgrrqbpsY"
   },
   "source": [
    "# Paso 1 - Convolución"
   ]
  },
  {
   "cell_type": "code",
   "execution_count": 3,
   "metadata": {
    "colab": {},
    "colab_type": "code",
    "id": "2kYdJsjsZCR8"
   },
   "outputs": [],
   "source": [
    "classifier.add(Conv2D(filters = 32,kernel_size = (3, 3), \n",
    "                      input_shape = (64, 64, 3), activation = \"relu\"))\n"
   ]
  },
  {
   "cell_type": "markdown",
   "metadata": {
    "colab_type": "text",
    "id": "rBFya76KbsKw"
   },
   "source": [
    "# Paso 2 - Max Pooling"
   ]
  },
  {
   "cell_type": "code",
   "execution_count": 4,
   "metadata": {
    "colab": {},
    "colab_type": "code",
    "id": "jty3bSFYZD98"
   },
   "outputs": [
    {
     "name": "stdout",
     "output_type": "stream",
     "text": [
      "WARNING:tensorflow:From C:\\Anaconda3\\envs\\tensorflow\\lib\\site-packages\\keras\\backend\\tensorflow_backend.py:4070: The name tf.nn.max_pool is deprecated. Please use tf.nn.max_pool2d instead.\n",
      "\n"
     ]
    }
   ],
   "source": [
    "classifier.add(MaxPooling2D(pool_size = (2,2)))"
   ]
  },
  {
   "cell_type": "markdown",
   "metadata": {
    "colab_type": "text",
    "id": "IgJ4s9fSb8bm"
   },
   "source": [
    "# Una segunda capa de convolución y max pooling"
   ]
  },
  {
   "cell_type": "code",
   "execution_count": 5,
   "metadata": {
    "colab": {},
    "colab_type": "code",
    "id": "mkVuO25YZHtg"
   },
   "outputs": [],
   "source": [
    "classifier.add(Conv2D(filters = 32,kernel_size = (3, 3), activation = \"relu\"))"
   ]
  },
  {
   "cell_type": "code",
   "execution_count": 6,
   "metadata": {
    "colab": {},
    "colab_type": "code",
    "id": "e0rd5DVFZIWb"
   },
   "outputs": [],
   "source": [
    "classifier.add(MaxPooling2D(pool_size = (2,2)))\n"
   ]
  },
  {
   "cell_type": "markdown",
   "metadata": {
    "colab_type": "text",
    "id": "gfacNAkPb_T-"
   },
   "source": [
    "# Paso 3 - Flattening"
   ]
  },
  {
   "cell_type": "code",
   "execution_count": 7,
   "metadata": {
    "colab": {},
    "colab_type": "code",
    "id": "JWl9_DHxZJZD"
   },
   "outputs": [],
   "source": [
    "classifier.add(Flatten())"
   ]
  },
  {
   "cell_type": "markdown",
   "metadata": {
    "colab_type": "text",
    "id": "Ksz0Q4WGcB77"
   },
   "source": [
    "# Paso 4 - Full Connection"
   ]
  },
  {
   "cell_type": "code",
   "execution_count": 8,
   "metadata": {
    "colab": {},
    "colab_type": "code",
    "id": "KQnTQSjyZKXs"
   },
   "outputs": [],
   "source": [
    "classifier.add(Dense(units = 128, activation = \"relu\"))\n",
    "classifier.add(Dense(units = 1, activation = \"sigmoid\")) # si se pusieran dos nodos habría que usar softmax o cross entropy"
   ]
  },
  {
   "cell_type": "markdown",
   "metadata": {
    "colab_type": "text",
    "id": "p7INHvHmcFdL"
   },
   "source": [
    "# Compilar la CNN\n",
    "# Como va a ser entrenada?"
   ]
  },
  {
   "cell_type": "code",
   "execution_count": 9,
   "metadata": {
    "colab": {},
    "colab_type": "code",
    "id": "Uc7pBop7ZLeN"
   },
   "outputs": [
    {
     "name": "stdout",
     "output_type": "stream",
     "text": [
      "WARNING:tensorflow:From C:\\Anaconda3\\envs\\tensorflow\\lib\\site-packages\\tensorflow\\python\\ops\\nn_impl.py:180: add_dispatch_support.<locals>.wrapper (from tensorflow.python.ops.array_ops) is deprecated and will be removed in a future version.\n",
      "Instructions for updating:\n",
      "Use tf.where in 2.0, which has the same broadcast rule as np.where\n"
     ]
    }
   ],
   "source": [
    "classifier.compile(optimizer = \"adam\", loss = \"binary_crossentropy\", metrics = [\"accuracy\"])\n"
   ]
  },
  {
   "cell_type": "markdown",
   "metadata": {
    "colab_type": "text",
    "id": "hits0FnccMjr"
   },
   "source": [
    "# Parte 2 - Ajustar la CNN a las imágenes para entrenar "
   ]
  },
  {
   "cell_type": "code",
   "execution_count": 11,
   "metadata": {
    "colab": {
     "base_uri": "https://localhost:8080/",
     "height": 425
    },
    "colab_type": "code",
    "id": "BYgCwVDFZMrU",
    "outputId": "641d711f-0723-447f-811b-1c1aaa639274"
   },
   "outputs": [
    {
     "name": "stdout",
     "output_type": "stream",
     "text": [
      "Found 8000 images belonging to 2 classes.\n",
      "Found 2000 images belonging to 2 classes.\n",
      "WARNING:tensorflow:From C:\\Anaconda3\\envs\\tensorflow\\lib\\site-packages\\keras\\backend\\tensorflow_backend.py:422: The name tf.global_variables is deprecated. Please use tf.compat.v1.global_variables instead.\n",
      "\n",
      "Epoch 1/25\n",
      "8000/8000 [==============================] - 648s 81ms/step - loss: 0.3797 - accuracy: 0.8209 - val_loss: 0.3703 - val_accuracy: 0.8066\n",
      "Epoch 2/25\n",
      "8000/8000 [==============================] - 508s 64ms/step - loss: 0.1228 - accuracy: 0.9525 - val_loss: 0.3876 - val_accuracy: 0.7842\n",
      "Epoch 3/25\n",
      "8000/8000 [==============================] - 507s 63ms/step - loss: 0.0597 - accuracy: 0.9786 - val_loss: 1.8559 - val_accuracy: 0.7770\n",
      "Epoch 4/25\n",
      "8000/8000 [==============================] - 507s 63ms/step - loss: 0.0416 - accuracy: 0.9854 - val_loss: 1.9023 - val_accuracy: 0.7954\n",
      "Epoch 5/25\n",
      "8000/8000 [==============================] - 501s 63ms/step - loss: 0.0338 - accuracy: 0.9883 - val_loss: 1.2633 - val_accuracy: 0.7866\n",
      "Epoch 6/25\n",
      "8000/8000 [==============================] - 494s 62ms/step - loss: 0.0266 - accuracy: 0.9909 - val_loss: 1.1748 - val_accuracy: 0.7947\n",
      "Epoch 7/25\n",
      "8000/8000 [==============================] - 496s 62ms/step - loss: 0.0239 - accuracy: 0.9922 - val_loss: 2.2659 - val_accuracy: 0.7981\n",
      "Epoch 8/25\n",
      "8000/8000 [==============================] - 509s 64ms/step - loss: 0.0211 - accuracy: 0.9932 - val_loss: 1.6814 - val_accuracy: 0.7955\n",
      "Epoch 9/25\n",
      "8000/8000 [==============================] - 507s 63ms/step - loss: 0.0186 - accuracy: 0.9940 - val_loss: 1.5719 - val_accuracy: 0.7961\n",
      "Epoch 10/25\n",
      "8000/8000 [==============================] - 504s 63ms/step - loss: 0.0170 - accuracy: 0.9945 - val_loss: 1.9523 - val_accuracy: 0.8007\n",
      "Epoch 11/25\n",
      "8000/8000 [==============================] - 508s 63ms/step - loss: 0.0151 - accuracy: 0.9953 - val_loss: 1.2964 - val_accuracy: 0.8031\n",
      "Epoch 12/25\n",
      "8000/8000 [==============================] - 506s 63ms/step - loss: 0.0145 - accuracy: 0.9955 - val_loss: 1.6917 - val_accuracy: 0.7976\n",
      "Epoch 13/25\n",
      "8000/8000 [==============================] - 514s 64ms/step - loss: 0.0134 - accuracy: 0.9959 - val_loss: 2.2016 - val_accuracy: 0.8015\n",
      "Epoch 14/25\n",
      "8000/8000 [==============================] - 507s 63ms/step - loss: 0.0127 - accuracy: 0.9961 - val_loss: 2.3198 - val_accuracy: 0.7893\n",
      "Epoch 15/25\n",
      "8000/8000 [==============================] - 507s 63ms/step - loss: 0.0111 - accuracy: 0.9964 - val_loss: 3.5443 - val_accuracy: 0.8007\n",
      "Epoch 16/25\n",
      "8000/8000 [==============================] - 513s 64ms/step - loss: 0.0126 - accuracy: 0.9963 - val_loss: 0.8646 - val_accuracy: 0.7976\n",
      "Epoch 17/25\n",
      "8000/8000 [==============================] - 510s 64ms/step - loss: 0.0104 - accuracy: 0.9968 - val_loss: 1.1752 - val_accuracy: 0.7943\n",
      "Epoch 18/25\n",
      "8000/8000 [==============================] - 495s 62ms/step - loss: 0.0099 - accuracy: 0.9969 - val_loss: 1.2285 - val_accuracy: 0.8006\n",
      "Epoch 19/25\n",
      "8000/8000 [==============================] - 487s 61ms/step - loss: 0.0098 - accuracy: 0.9970 - val_loss: 3.1056 - val_accuracy: 0.7894\n",
      "Epoch 20/25\n",
      "8000/8000 [==============================] - 487s 61ms/step - loss: 0.0097 - accuracy: 0.9971 - val_loss: 0.8640 - val_accuracy: 0.7954\n",
      "Epoch 21/25\n",
      "8000/8000 [==============================] - 489s 61ms/step - loss: 0.0088 - accuracy: 0.9974 - val_loss: 3.2993 - val_accuracy: 0.7855\n",
      "Epoch 22/25\n",
      "8000/8000 [==============================] - 491s 61ms/step - loss: 0.0092 - accuracy: 0.9974 - val_loss: 1.6443 - val_accuracy: 0.7919\n",
      "Epoch 23/25\n",
      "8000/8000 [==============================] - 490s 61ms/step - loss: 0.0085 - accuracy: 0.9976 - val_loss: 1.7513 - val_accuracy: 0.7913\n",
      "Epoch 24/25\n",
      "8000/8000 [==============================] - 488s 61ms/step - loss: 0.0081 - accuracy: 0.9977 - val_loss: 1.0106 - val_accuracy: 0.7934\n",
      "Epoch 25/25\n",
      "8000/8000 [==============================] - 489s 61ms/step - loss: 0.0086 - accuracy: 0.9976 - val_loss: 1.9811 - val_accuracy: 0.7899\n"
     ]
    },
    {
     "data": {
      "text/plain": [
       "<keras.callbacks.callbacks.History at 0x1b7953b5c48>"
      ]
     },
     "execution_count": 11,
     "metadata": {},
     "output_type": "execute_result"
    }
   ],
   "source": [
    "from keras.preprocessing.image import ImageDataGenerator\n",
    "\n",
    "train_datagen = ImageDataGenerator(\n",
    "        rescale=1./255,\n",
    "        shear_range=0.2,\n",
    "        zoom_range=0.2,\n",
    "        horizontal_flip=True)\n",
    "\n",
    "test_datagen = ImageDataGenerator(rescale=1./255)\n",
    "\n",
    "training_dataset = train_datagen.flow_from_directory('./dataset/training_set',\n",
    "                                                    target_size=(64, 64),\n",
    "                                                    batch_size=32, #paquetes de imágenes \n",
    "                                                    class_mode='binary')\n",
    "\n",
    "testing_dataset = test_datagen.flow_from_directory('./dataset/test_set',\n",
    "                                                target_size=(64, 64),\n",
    "                                                batch_size=32,\n",
    "                                                class_mode='binary')\n",
    "\n",
    "classifier.fit_generator(training_dataset,\n",
    "                        steps_per_epoch=8000,\n",
    "                        epochs=25,\n",
    "                        validation_data=testing_dataset,\n",
    "                        validation_steps=2000)\n",
    "\n"
   ]
  },
  {
   "cell_type": "markdown",
   "metadata": {
    "colab_type": "text",
    "id": "KwHuYDWfcPEZ"
   },
   "source": [
    "# Parte 3 - Cómo hacer nuevas predicciones"
   ]
  },
  {
   "cell_type": "code",
   "execution_count": 16,
   "metadata": {
    "colab": {},
    "colab_type": "code",
    "id": "Z7k7KG9SZOjL"
   },
   "outputs": [],
   "source": [
    "import numpy as np\n",
    "from keras.preprocessing import image\n",
    "test_image = image.load_img('./dataset/single_prediction/WhatsApp Image 2022-07-11 at 3.19.34 PM.jpeg', target_size = (64, 64))\n",
    "test_image = image.img_to_array(test_image)\n",
    "test_image = np.expand_dims(test_image, axis = 0)\n",
    "result = classifier.predict(test_image)\n",
    "training_dataset.class_indices\n",
    "if result[0][0] == 1:\n",
    "    prediction = 'dog'\n",
    "else:\n",
    "    prediction = 'cat'\n",
    "\n"
   ]
  },
  {
   "cell_type": "code",
   "execution_count": 17,
   "metadata": {},
   "outputs": [
    {
     "data": {
      "text/plain": [
       "'cat'"
      ]
     },
     "execution_count": 17,
     "metadata": {},
     "output_type": "execute_result"
    }
   ],
   "source": [
    "prediction"
   ]
  },
  {
   "cell_type": "code",
   "execution_count": null,
   "metadata": {},
   "outputs": [],
   "source": []
  }
 ],
 "metadata": {
  "accelerator": "GPU",
  "colab": {
   "name": "CNN.ipynb",
   "provenance": [],
   "toc_visible": true
  },
  "kernelspec": {
   "display_name": "Python 3 (ipykernel)",
   "language": "python",
   "name": "python3"
  },
  "language_info": {
   "codemirror_mode": {
    "name": "ipython",
    "version": 3
   },
   "file_extension": ".py",
   "mimetype": "text/x-python",
   "name": "python",
   "nbconvert_exporter": "python",
   "pygments_lexer": "ipython3",
   "version": "3.7.12"
  }
 },
 "nbformat": 4,
 "nbformat_minor": 4
}
